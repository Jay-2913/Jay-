{
 "cells": [
  {
   "cell_type": "code",
   "execution_count": 3,
   "id": "0ed970b7-63ee-4b3c-8417-ec9c4912009d",
   "metadata": {},
   "outputs": [],
   "source": [
    "def showDetails(*args):\n",
    "    for i in range(len(args)):\n",
    "        variable = args[i]\n",
    "        print(f\"The Value of { i+1 } variable is \\t{variable }\\t its id is \\t {id(variable)}\")\n",
    "    \n",
    "    print(\"\\n\\n\")\n",
    "\n",
    "\n"
   ]
  },
  {
   "cell_type": "code",
   "execution_count": 4,
   "id": "b006dcd9-1e3e-4dad-8d09-fede1678c9b0",
   "metadata": {},
   "outputs": [
    {
     "name": "stdout",
     "output_type": "stream",
     "text": [
      "The Value of 1 variable is \t[2, 4, 6, [1, 3]]\t its id is \t 1516046821056\n",
      "The Value of 2 variable is \t[2, 4, 6, [1, 3]]\t its id is \t 1516046821056\n",
      "\n",
      "\n",
      "\n",
      "The Value of 1 variable is \t[2, 44, 6, [1, 3]]\t its id is \t 1516046821056\n",
      "The Value of 2 variable is \t[2, 44, 6, [1, 3]]\t its id is \t 1516046821056\n",
      "\n",
      "\n",
      "\n",
      "The Value of 1 variable is \t[2, 44, 6, [1, 10]]\t its id is \t 1516046821056\n",
      "The Value of 2 variable is \t[2, 44, 6, [1, 10]]\t its id is \t 1516046821056\n",
      "\n",
      "\n",
      "\n"
     ]
    }
   ],
   "source": [
    "listA = [2, 4, 6, [1, 3]]\n",
    "listB = listA\n",
    "showDetails(listA,listB)\n",
    "listB[1] = 44\n",
    "\n",
    "showDetails(listA,listB)\n",
    "listB[3][1] = 10\n",
    "\n",
    "\n",
    "showDetails(listA,listB)"
   ]
  },
  {
   "cell_type": "code",
   "execution_count": 5,
   "id": "014f89ff-d14b-4840-9d01-c979a3165cd3",
   "metadata": {},
   "outputs": [
    {
     "name": "stdout",
     "output_type": "stream",
     "text": [
      "The Value of 1 variable is \t[2, 4, 6, [1, 3]]\t its id is \t 1516047496896\n",
      "The Value of 2 variable is \t[2, 4, 6, [1, 3]]\t its id is \t 1516046510400\n",
      "\n",
      "\n",
      "\n",
      "The Value of 1 variable is \t[2, 4, 6, [55, 3]]\t its id is \t 1516047496896\n",
      "The Value of 2 variable is \t[2, 44, 6, [55, 3]]\t its id is \t 1516046510400\n",
      "\n",
      "\n",
      "\n"
     ]
    }
   ],
   "source": [
    "listA = [2, 4, 6, [1, 3]]\n",
    "listB = list(listA)\n",
    "showDetails(listA,listB)\n",
    "\n",
    "listB[1] = 44\n",
    "listB[3][0] = 55\n",
    "\n",
    "showDetails(listA,listB)"
   ]
  },
  {
   "cell_type": "code",
   "execution_count": 6,
   "id": "3f83b1cd-0e27-4ea6-9259-1caa27b7d679",
   "metadata": {},
   "outputs": [
    {
     "name": "stdout",
     "output_type": "stream",
     "text": [
      "The Value of 1 variable is \t[2, 4, 6, [1, 3]]\t its id is \t 1516047496192\n",
      "The Value of 2 variable is \t[2, 4, 6, [1, 3]]\t its id is \t 1516046580736\n",
      "\n",
      "\n",
      "\n",
      "The Value of 1 variable is \t[2, 4, 6, [55, 3]]\t its id is \t 1516047496192\n",
      "The Value of 2 variable is \t[2, 44, 6, [55, 3]]\t its id is \t 1516046580736\n",
      "\n",
      "\n",
      "\n"
     ]
    }
   ],
   "source": [
    "listA = [2, 4, 6, [1, 3]]\n",
    "listB = [x for x in listA]\n",
    "showDetails(listA,listB)\n",
    "\n",
    "listB[1] = 44\n",
    "listB[3][0] = 55\n",
    "showDetails(listA,listB)"
   ]
  },
  {
   "cell_type": "code",
   "execution_count": 7,
   "id": "b48b0342-f215-4d49-9974-8d5c4f85bf44",
   "metadata": {},
   "outputs": [
    {
     "name": "stdout",
     "output_type": "stream",
     "text": [
      "The Value of 1 variable is \t[2, 4, 6, [1, 3]]\t its id is \t 1516047366976\n",
      "The Value of 2 variable is \t[2, 4, 6, [1, 3]]\t its id is \t 1516046510400\n",
      "\n",
      "\n",
      "\n",
      "The Value of 1 variable is \t[2, 4, 6, [55, 3]]\t its id is \t 1516047366976\n",
      "The Value of 2 variable is \t[2, 44, 6, [55, 3]]\t its id is \t 1516046510400\n",
      "\n",
      "\n",
      "\n"
     ]
    }
   ],
   "source": [
    "listA = [2, 4, 6, [1, 3]]\n",
    "listB = listA.copy()\n",
    "showDetails(listA,listB)\n",
    "\n",
    "listB[1] = 44\n",
    "listB[3][0] = 55\n",
    "showDetails(listA,listB)"
   ]
  },
  {
   "cell_type": "code",
   "execution_count": 8,
   "id": "79b3dfdb-d7f2-4daf-a47f-7d3f5e41dd75",
   "metadata": {},
   "outputs": [
    {
     "name": "stdout",
     "output_type": "stream",
     "text": [
      "The Value of 1 variable is \t[2, 4, 6, [1, 3]]\t its id is \t 1516046821056\n",
      "The Value of 2 variable is \t[2, 4, 6, [1, 3]]\t its id is \t 1516047496192\n",
      "\n",
      "\n",
      "\n",
      "The Value of 1 variable is \t[2, 4, 6, [55, 3]]\t its id is \t 1516046821056\n",
      "The Value of 2 variable is \t[2, 44, 6, [55, 3]]\t its id is \t 1516047496192\n",
      "\n",
      "\n",
      "\n"
     ]
    }
   ],
   "source": [
    "import copy\n",
    "listA = [2, 4, 6, [1, 3]]\n",
    "listB = copy.copy(listA)\n",
    "\n",
    "showDetails(listA,listB)\n",
    "listB[1] = 44\n",
    "listB[3][0] = 55\n",
    "showDetails(listA,listB)"
   ]
  },
  {
   "cell_type": "code",
   "execution_count": 9,
   "id": "f7a5beee-b2fb-4005-a348-95e28bdff5d7",
   "metadata": {},
   "outputs": [
    {
     "name": "stdout",
     "output_type": "stream",
     "text": [
      "The Value of 1 variable is \t[2, 4, 6, [1, 3]]\t its id is \t 1516046565440\n",
      "The Value of 2 variable is \t[2, 4, 6, [1, 3]]\t its id is \t 1516047500352\n",
      "\n",
      "\n",
      "\n",
      "The Value of 1 variable is \t[2, 4, 6, [1, 3]]\t its id is \t 1516046565440\n",
      "The Value of 2 variable is \t[2, 44, 6, [55, 3]]\t its id is \t 1516047500352\n",
      "\n",
      "\n",
      "\n"
     ]
    }
   ],
   "source": [
    "import copy\n",
    "listA = [2, 4, 6, [1, 3]]\n",
    "listB = copy.deepcopy(listA)\n",
    "showDetails(listA,listB)\n",
    "listB[1] = 44\n",
    "listB[3][0] = 55\n",
    "showDetails(listA,listB)"
   ]
  },
  {
   "cell_type": "code",
   "execution_count": null,
   "id": "082455f8-289e-4f82-a1a5-dac96486cac4",
   "metadata": {},
   "outputs": [],
   "source": [
    "class Pony():\n",
    "    def __init__(self, n):\n",
    "        self.name = n\n",
    "        \n",
    "\n",
    "pony1 = Pony('Pinto')\n",
    "pony2 = copy.copy(pony1)\n",
    "showDetails(pony1,pony2)\n",
    "\n",
    "print(id(pony1), id(pony2))\n",
    "\n",
    "   \n",
    "\n",
    "m = [pony1, pony2]\n",
    "n = copy.copy (m)\n",
    "print(id(m[0]), id(n[0]))\n",
    "\n",
    "n = copy.deepcopy (m)\n",
    "print(id(m[0]), id(n[0]))"
   ]
  }
 ],
 "metadata": {
  "kernelspec": {
   "display_name": "Python 3 (ipykernel)",
   "language": "python",
   "name": "python3"
  },
  "language_info": {
   "codemirror_mode": {
    "name": "ipython",
    "version": 3
   },
   "file_extension": ".py",
   "mimetype": "text/x-python",
   "name": "python",
   "nbconvert_exporter": "python",
   "pygments_lexer": "ipython3",
   "version": "3.11.7"
  }
 },
 "nbformat": 4,
 "nbformat_minor": 5
}
